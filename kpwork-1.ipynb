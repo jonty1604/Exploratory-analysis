{
 "cells": [
  {
   "cell_type": "code",
   "execution_count": 117,
   "id": "11c46401",
   "metadata": {},
   "outputs": [],
   "source": [
    "import pandas as pd\n",
    "import numpy as np\n",
    "import seaborn as sns\n",
    "import matplotlib.pyplot as plt"
   ]
  },
  {
   "cell_type": "code",
   "execution_count": 118,
   "id": "e92ef427",
   "metadata": {},
   "outputs": [],
   "source": [
    "df=pd.read_csv('case_data.csv')"
   ]
  },
  {
   "cell_type": "code",
   "execution_count": 119,
   "id": "8b6300ca",
   "metadata": {},
   "outputs": [
    {
     "data": {
      "text/html": [
       "<div>\n",
       "<style scoped>\n",
       "    .dataframe tbody tr th:only-of-type {\n",
       "        vertical-align: middle;\n",
       "    }\n",
       "\n",
       "    .dataframe tbody tr th {\n",
       "        vertical-align: top;\n",
       "    }\n",
       "\n",
       "    .dataframe thead th {\n",
       "        text-align: right;\n",
       "    }\n",
       "</style>\n",
       "<table border=\"1\" class=\"dataframe\">\n",
       "  <thead>\n",
       "    <tr style=\"text-align: right;\">\n",
       "      <th></th>\n",
       "      <th>New Interviewee Case Study Dataset FINAL (2)</th>\n",
       "      <th>Unnamed: 1</th>\n",
       "      <th>Unnamed: 2</th>\n",
       "      <th>Unnamed: 3</th>\n",
       "      <th>Unnamed: 4</th>\n",
       "      <th>Unnamed: 5</th>\n",
       "      <th>Unnamed: 6</th>\n",
       "      <th>Unnamed: 7</th>\n",
       "      <th>Unnamed: 8</th>\n",
       "      <th>Unnamed: 9</th>\n",
       "      <th>Unnamed: 10</th>\n",
       "      <th>Unnamed: 11</th>\n",
       "      <th>Unnamed: 12</th>\n",
       "      <th>Unnamed: 13</th>\n",
       "      <th>Unnamed: 14</th>\n",
       "      <th>Unnamed: 15</th>\n",
       "      <th>Unnamed: 16</th>\n",
       "      <th>Unnamed: 17</th>\n",
       "      <th>Unnamed: 18</th>\n",
       "      <th>Unnamed: 19</th>\n",
       "    </tr>\n",
       "  </thead>\n",
       "  <tbody>\n",
       "    <tr>\n",
       "      <th>0</th>\n",
       "      <td>Age</td>\n",
       "      <td>Gender</td>\n",
       "      <td>MonthlyIncome</td>\n",
       "      <td>Department</td>\n",
       "      <td>NumCompaniesWorked</td>\n",
       "      <td>Over18</td>\n",
       "      <td>workingfromhome</td>\n",
       "      <td>BusinessTravel</td>\n",
       "      <td>DistanceFromHome</td>\n",
       "      <td>StandardHours</td>\n",
       "      <td>JobSatisfaction</td>\n",
       "      <td>complaintfiled</td>\n",
       "      <td>complaintresolved</td>\n",
       "      <td>complaintyears</td>\n",
       "      <td>PercentSalaryHike</td>\n",
       "      <td>PerformanceRating</td>\n",
       "      <td>TotalWorkingYears</td>\n",
       "      <td>YearsAtCompany</td>\n",
       "      <td>YearsSinceLastPromotion</td>\n",
       "      <td>Left</td>\n",
       "    </tr>\n",
       "    <tr>\n",
       "      <th>1</th>\n",
       "      <td>31</td>\n",
       "      <td>Female</td>\n",
       "      <td>low</td>\n",
       "      <td>Research &amp; Development</td>\n",
       "      <td>1</td>\n",
       "      <td>Y</td>\n",
       "      <td>0</td>\n",
       "      <td>Travel_Rarely</td>\n",
       "      <td>2</td>\n",
       "      <td>40</td>\n",
       "      <td>4</td>\n",
       "      <td>1</td>\n",
       "      <td>Y</td>\n",
       "      <td>0</td>\n",
       "      <td>11</td>\n",
       "      <td>1</td>\n",
       "      <td>1</td>\n",
       "      <td>1</td>\n",
       "      <td>0</td>\n",
       "      <td>No</td>\n",
       "    </tr>\n",
       "    <tr>\n",
       "      <th>2</th>\n",
       "      <td>32</td>\n",
       "      <td>Male</td>\n",
       "      <td>low</td>\n",
       "      <td>Research &amp; Development</td>\n",
       "      <td>0</td>\n",
       "      <td>Y</td>\n",
       "      <td>0</td>\n",
       "      <td>Travel_Frequently</td>\n",
       "      <td>2</td>\n",
       "      <td>40</td>\n",
       "      <td>4</td>\n",
       "      <td>0</td>\n",
       "      <td>NaN</td>\n",
       "      <td>NaN</td>\n",
       "      <td>13</td>\n",
       "      <td>2</td>\n",
       "      <td>8</td>\n",
       "      <td>7</td>\n",
       "      <td>3</td>\n",
       "      <td>No</td>\n",
       "    </tr>\n",
       "    <tr>\n",
       "      <th>3</th>\n",
       "      <td>34</td>\n",
       "      <td>Female</td>\n",
       "      <td>medium</td>\n",
       "      <td>Research &amp; Development</td>\n",
       "      <td>3</td>\n",
       "      <td>Y</td>\n",
       "      <td>1</td>\n",
       "      <td>Travel_Rarely</td>\n",
       "      <td>8</td>\n",
       "      <td>40</td>\n",
       "      <td>1</td>\n",
       "      <td>0</td>\n",
       "      <td>NaN</td>\n",
       "      <td>NaN</td>\n",
       "      <td>14</td>\n",
       "      <td>3</td>\n",
       "      <td>7</td>\n",
       "      <td>0</td>\n",
       "      <td>0</td>\n",
       "      <td>No</td>\n",
       "    </tr>\n",
       "    <tr>\n",
       "      <th>4</th>\n",
       "      <td>49</td>\n",
       "      <td>Male</td>\n",
       "      <td>high</td>\n",
       "      <td>Research &amp; Development</td>\n",
       "      <td>4</td>\n",
       "      <td>Y</td>\n",
       "      <td>0</td>\n",
       "      <td>Travel_Rarely</td>\n",
       "      <td>1</td>\n",
       "      <td>40</td>\n",
       "      <td>3</td>\n",
       "      <td>0</td>\n",
       "      <td>NaN</td>\n",
       "      <td>NaN</td>\n",
       "      <td>14</td>\n",
       "      <td>3</td>\n",
       "      <td>23</td>\n",
       "      <td>8</td>\n",
       "      <td>0</td>\n",
       "      <td>No</td>\n",
       "    </tr>\n",
       "  </tbody>\n",
       "</table>\n",
       "</div>"
      ],
      "text/plain": [
       "  New Interviewee Case Study Dataset FINAL (2) Unnamed: 1     Unnamed: 2  \\\n",
       "0                                          Age     Gender  MonthlyIncome   \n",
       "1                                           31     Female            low   \n",
       "2                                           32       Male            low   \n",
       "3                                           34     Female         medium   \n",
       "4                                           49       Male           high   \n",
       "\n",
       "               Unnamed: 3          Unnamed: 4 Unnamed: 5       Unnamed: 6  \\\n",
       "0              Department  NumCompaniesWorked     Over18  workingfromhome   \n",
       "1  Research & Development                   1          Y                0   \n",
       "2  Research & Development                   0          Y                0   \n",
       "3  Research & Development                   3          Y                1   \n",
       "4  Research & Development                   4          Y                0   \n",
       "\n",
       "          Unnamed: 7        Unnamed: 8     Unnamed: 9      Unnamed: 10  \\\n",
       "0     BusinessTravel  DistanceFromHome  StandardHours  JobSatisfaction   \n",
       "1      Travel_Rarely                 2             40                4   \n",
       "2  Travel_Frequently                 2             40                4   \n",
       "3      Travel_Rarely                 8             40                1   \n",
       "4      Travel_Rarely                 1             40                3   \n",
       "\n",
       "      Unnamed: 11        Unnamed: 12     Unnamed: 13        Unnamed: 14  \\\n",
       "0  complaintfiled  complaintresolved  complaintyears  PercentSalaryHike   \n",
       "1               1                  Y               0                 11   \n",
       "2               0                NaN             NaN                 13   \n",
       "3               0                NaN             NaN                 14   \n",
       "4               0                NaN             NaN                 14   \n",
       "\n",
       "         Unnamed: 15        Unnamed: 16     Unnamed: 17  \\\n",
       "0  PerformanceRating  TotalWorkingYears  YearsAtCompany   \n",
       "1                  1                  1               1   \n",
       "2                  2                  8               7   \n",
       "3                  3                  7               0   \n",
       "4                  3                 23               8   \n",
       "\n",
       "               Unnamed: 18 Unnamed: 19  \n",
       "0  YearsSinceLastPromotion        Left  \n",
       "1                        0          No  \n",
       "2                        3          No  \n",
       "3                        0          No  \n",
       "4                        0          No  "
      ]
     },
     "execution_count": 119,
     "metadata": {},
     "output_type": "execute_result"
    }
   ],
   "source": [
    "df.head(5)"
   ]
  },
  {
   "cell_type": "code",
   "execution_count": 120,
   "id": "74c07499",
   "metadata": {},
   "outputs": [
    {
     "data": {
      "text/plain": [
       "Index(['New Interviewee Case Study Dataset FINAL (2)', 'Unnamed: 1',\n",
       "       'Unnamed: 2', 'Unnamed: 3', 'Unnamed: 4', 'Unnamed: 5', 'Unnamed: 6',\n",
       "       'Unnamed: 7', 'Unnamed: 8', 'Unnamed: 9', 'Unnamed: 10', 'Unnamed: 11',\n",
       "       'Unnamed: 12', 'Unnamed: 13', 'Unnamed: 14', 'Unnamed: 15',\n",
       "       'Unnamed: 16', 'Unnamed: 17', 'Unnamed: 18', 'Unnamed: 19'],\n",
       "      dtype='object')"
      ]
     },
     "execution_count": 120,
     "metadata": {},
     "output_type": "execute_result"
    }
   ],
   "source": [
    "df.columns"
   ]
  },
  {
   "cell_type": "code",
   "execution_count": 121,
   "id": "c59280f1",
   "metadata": {},
   "outputs": [
    {
     "data": {
      "text/html": [
       "<div>\n",
       "<style scoped>\n",
       "    .dataframe tbody tr th:only-of-type {\n",
       "        vertical-align: middle;\n",
       "    }\n",
       "\n",
       "    .dataframe tbody tr th {\n",
       "        vertical-align: top;\n",
       "    }\n",
       "\n",
       "    .dataframe thead th {\n",
       "        text-align: right;\n",
       "    }\n",
       "</style>\n",
       "<table border=\"1\" class=\"dataframe\">\n",
       "  <thead>\n",
       "    <tr style=\"text-align: right;\">\n",
       "      <th></th>\n",
       "      <th>Age</th>\n",
       "      <th>Gender</th>\n",
       "      <th>MonthlyIncome</th>\n",
       "      <th>Department</th>\n",
       "      <th>NumCompaniesWorked</th>\n",
       "      <th>Over18</th>\n",
       "      <th>workingfromhome</th>\n",
       "      <th>BusinessTravel</th>\n",
       "      <th>DistanceFromHome</th>\n",
       "      <th>StandardHours</th>\n",
       "      <th>JobSatisfaction</th>\n",
       "      <th>complaintfiled</th>\n",
       "      <th>complaintresolved</th>\n",
       "      <th>complaintyears</th>\n",
       "      <th>PercentSalaryHike</th>\n",
       "      <th>PerformanceRating</th>\n",
       "      <th>TotalWorkingYears</th>\n",
       "      <th>YearsAtCompany</th>\n",
       "      <th>YearsSinceLastPromotion</th>\n",
       "      <th>Left</th>\n",
       "    </tr>\n",
       "  </thead>\n",
       "  <tbody>\n",
       "    <tr>\n",
       "      <th>0</th>\n",
       "      <td>Age</td>\n",
       "      <td>Gender</td>\n",
       "      <td>MonthlyIncome</td>\n",
       "      <td>Department</td>\n",
       "      <td>NumCompaniesWorked</td>\n",
       "      <td>Over18</td>\n",
       "      <td>workingfromhome</td>\n",
       "      <td>BusinessTravel</td>\n",
       "      <td>DistanceFromHome</td>\n",
       "      <td>StandardHours</td>\n",
       "      <td>JobSatisfaction</td>\n",
       "      <td>complaintfiled</td>\n",
       "      <td>complaintresolved</td>\n",
       "      <td>complaintyears</td>\n",
       "      <td>PercentSalaryHike</td>\n",
       "      <td>PerformanceRating</td>\n",
       "      <td>TotalWorkingYears</td>\n",
       "      <td>YearsAtCompany</td>\n",
       "      <td>YearsSinceLastPromotion</td>\n",
       "      <td>Left</td>\n",
       "    </tr>\n",
       "    <tr>\n",
       "      <th>1</th>\n",
       "      <td>31</td>\n",
       "      <td>Female</td>\n",
       "      <td>low</td>\n",
       "      <td>Research &amp; Development</td>\n",
       "      <td>1</td>\n",
       "      <td>Y</td>\n",
       "      <td>0</td>\n",
       "      <td>Travel_Rarely</td>\n",
       "      <td>2</td>\n",
       "      <td>40</td>\n",
       "      <td>4</td>\n",
       "      <td>1</td>\n",
       "      <td>Y</td>\n",
       "      <td>0</td>\n",
       "      <td>11</td>\n",
       "      <td>1</td>\n",
       "      <td>1</td>\n",
       "      <td>1</td>\n",
       "      <td>0</td>\n",
       "      <td>No</td>\n",
       "    </tr>\n",
       "    <tr>\n",
       "      <th>2</th>\n",
       "      <td>32</td>\n",
       "      <td>Male</td>\n",
       "      <td>low</td>\n",
       "      <td>Research &amp; Development</td>\n",
       "      <td>0</td>\n",
       "      <td>Y</td>\n",
       "      <td>0</td>\n",
       "      <td>Travel_Frequently</td>\n",
       "      <td>2</td>\n",
       "      <td>40</td>\n",
       "      <td>4</td>\n",
       "      <td>0</td>\n",
       "      <td>NaN</td>\n",
       "      <td>NaN</td>\n",
       "      <td>13</td>\n",
       "      <td>2</td>\n",
       "      <td>8</td>\n",
       "      <td>7</td>\n",
       "      <td>3</td>\n",
       "      <td>No</td>\n",
       "    </tr>\n",
       "  </tbody>\n",
       "</table>\n",
       "</div>"
      ],
      "text/plain": [
       "0  Age  Gender  MonthlyIncome              Department  NumCompaniesWorked  \\\n",
       "0  Age  Gender  MonthlyIncome              Department  NumCompaniesWorked   \n",
       "1   31  Female            low  Research & Development                   1   \n",
       "2   32    Male            low  Research & Development                   0   \n",
       "\n",
       "0  Over18  workingfromhome     BusinessTravel  DistanceFromHome  \\\n",
       "0  Over18  workingfromhome     BusinessTravel  DistanceFromHome   \n",
       "1       Y                0      Travel_Rarely                 2   \n",
       "2       Y                0  Travel_Frequently                 2   \n",
       "\n",
       "0  StandardHours  JobSatisfaction  complaintfiled  complaintresolved  \\\n",
       "0  StandardHours  JobSatisfaction  complaintfiled  complaintresolved   \n",
       "1             40                4               1                  Y   \n",
       "2             40                4               0                NaN   \n",
       "\n",
       "0  complaintyears  PercentSalaryHike  PerformanceRating  TotalWorkingYears  \\\n",
       "0  complaintyears  PercentSalaryHike  PerformanceRating  TotalWorkingYears   \n",
       "1               0                 11                  1                  1   \n",
       "2             NaN                 13                  2                  8   \n",
       "\n",
       "0  YearsAtCompany  YearsSinceLastPromotion  Left  \n",
       "0  YearsAtCompany  YearsSinceLastPromotion  Left  \n",
       "1               1                        0    No  \n",
       "2               7                        3    No  "
      ]
     },
     "execution_count": 121,
     "metadata": {},
     "output_type": "execute_result"
    }
   ],
   "source": [
    "df.columns=df.iloc[0]\n",
    "df.head(3)"
   ]
  },
  {
   "cell_type": "code",
   "execution_count": 122,
   "id": "a277ba6f",
   "metadata": {},
   "outputs": [
    {
     "data": {
      "text/html": [
       "<div>\n",
       "<style scoped>\n",
       "    .dataframe tbody tr th:only-of-type {\n",
       "        vertical-align: middle;\n",
       "    }\n",
       "\n",
       "    .dataframe tbody tr th {\n",
       "        vertical-align: top;\n",
       "    }\n",
       "\n",
       "    .dataframe thead th {\n",
       "        text-align: right;\n",
       "    }\n",
       "</style>\n",
       "<table border=\"1\" class=\"dataframe\">\n",
       "  <thead>\n",
       "    <tr style=\"text-align: right;\">\n",
       "      <th></th>\n",
       "      <th>Age</th>\n",
       "      <th>Gender</th>\n",
       "      <th>MonthlyIncome</th>\n",
       "      <th>Department</th>\n",
       "      <th>NumCompaniesWorked</th>\n",
       "      <th>Over18</th>\n",
       "      <th>workingfromhome</th>\n",
       "      <th>BusinessTravel</th>\n",
       "      <th>DistanceFromHome</th>\n",
       "      <th>StandardHours</th>\n",
       "      <th>JobSatisfaction</th>\n",
       "      <th>complaintfiled</th>\n",
       "      <th>complaintresolved</th>\n",
       "      <th>complaintyears</th>\n",
       "      <th>PercentSalaryHike</th>\n",
       "      <th>PerformanceRating</th>\n",
       "      <th>TotalWorkingYears</th>\n",
       "      <th>YearsAtCompany</th>\n",
       "      <th>YearsSinceLastPromotion</th>\n",
       "      <th>Left</th>\n",
       "    </tr>\n",
       "  </thead>\n",
       "  <tbody>\n",
       "    <tr>\n",
       "      <th>0</th>\n",
       "      <td>31</td>\n",
       "      <td>Female</td>\n",
       "      <td>low</td>\n",
       "      <td>Research &amp; Development</td>\n",
       "      <td>1</td>\n",
       "      <td>Y</td>\n",
       "      <td>0</td>\n",
       "      <td>Travel_Rarely</td>\n",
       "      <td>2</td>\n",
       "      <td>40</td>\n",
       "      <td>4</td>\n",
       "      <td>1</td>\n",
       "      <td>Y</td>\n",
       "      <td>0</td>\n",
       "      <td>11</td>\n",
       "      <td>1</td>\n",
       "      <td>1</td>\n",
       "      <td>1</td>\n",
       "      <td>0</td>\n",
       "      <td>No</td>\n",
       "    </tr>\n",
       "    <tr>\n",
       "      <th>1</th>\n",
       "      <td>32</td>\n",
       "      <td>Male</td>\n",
       "      <td>low</td>\n",
       "      <td>Research &amp; Development</td>\n",
       "      <td>0</td>\n",
       "      <td>Y</td>\n",
       "      <td>0</td>\n",
       "      <td>Travel_Frequently</td>\n",
       "      <td>2</td>\n",
       "      <td>40</td>\n",
       "      <td>4</td>\n",
       "      <td>0</td>\n",
       "      <td>NaN</td>\n",
       "      <td>NaN</td>\n",
       "      <td>13</td>\n",
       "      <td>2</td>\n",
       "      <td>8</td>\n",
       "      <td>7</td>\n",
       "      <td>3</td>\n",
       "      <td>No</td>\n",
       "    </tr>\n",
       "    <tr>\n",
       "      <th>2</th>\n",
       "      <td>34</td>\n",
       "      <td>Female</td>\n",
       "      <td>medium</td>\n",
       "      <td>Research &amp; Development</td>\n",
       "      <td>3</td>\n",
       "      <td>Y</td>\n",
       "      <td>1</td>\n",
       "      <td>Travel_Rarely</td>\n",
       "      <td>8</td>\n",
       "      <td>40</td>\n",
       "      <td>1</td>\n",
       "      <td>0</td>\n",
       "      <td>NaN</td>\n",
       "      <td>NaN</td>\n",
       "      <td>14</td>\n",
       "      <td>3</td>\n",
       "      <td>7</td>\n",
       "      <td>0</td>\n",
       "      <td>0</td>\n",
       "      <td>No</td>\n",
       "    </tr>\n",
       "  </tbody>\n",
       "</table>\n",
       "</div>"
      ],
      "text/plain": [
       "0 Age  Gender MonthlyIncome              Department NumCompaniesWorked Over18  \\\n",
       "0  31  Female           low  Research & Development                  1      Y   \n",
       "1  32    Male           low  Research & Development                  0      Y   \n",
       "2  34  Female        medium  Research & Development                  3      Y   \n",
       "\n",
       "0 workingfromhome     BusinessTravel DistanceFromHome StandardHours  \\\n",
       "0               0      Travel_Rarely                2            40   \n",
       "1               0  Travel_Frequently                2            40   \n",
       "2               1      Travel_Rarely                8            40   \n",
       "\n",
       "0 JobSatisfaction complaintfiled complaintresolved complaintyears  \\\n",
       "0               4              1                 Y              0   \n",
       "1               4              0               NaN            NaN   \n",
       "2               1              0               NaN            NaN   \n",
       "\n",
       "0 PercentSalaryHike PerformanceRating TotalWorkingYears YearsAtCompany  \\\n",
       "0                11                 1                 1              1   \n",
       "1                13                 2                 8              7   \n",
       "2                14                 3                 7              0   \n",
       "\n",
       "0 YearsSinceLastPromotion Left  \n",
       "0                       0   No  \n",
       "1                       3   No  \n",
       "2                       0   No  "
      ]
     },
     "execution_count": 122,
     "metadata": {},
     "output_type": "execute_result"
    }
   ],
   "source": [
    "df=df[1:].reset_index(drop=True).copy()\n",
    "df.head(3)"
   ]
  },
  {
   "cell_type": "code",
   "execution_count": 123,
   "id": "a9b7e4fa",
   "metadata": {},
   "outputs": [
    {
     "data": {
      "text/plain": [
       "Index(['Age', 'Gender', 'MonthlyIncome', 'Department', 'NumCompaniesWorked',\n",
       "       'Over18', 'workingfromhome', 'BusinessTravel', 'DistanceFromHome',\n",
       "       'StandardHours', 'JobSatisfaction', 'complaintfiled',\n",
       "       'complaintresolved', 'complaintyears', 'PercentSalaryHike',\n",
       "       'PerformanceRating', 'TotalWorkingYears', 'YearsAtCompany',\n",
       "       'YearsSinceLastPromotion', 'Left'],\n",
       "      dtype='object', name=0)"
      ]
     },
     "execution_count": 123,
     "metadata": {},
     "output_type": "execute_result"
    }
   ],
   "source": [
    "df.columns"
   ]
  },
  {
   "cell_type": "code",
   "execution_count": 124,
   "id": "57397b63",
   "metadata": {},
   "outputs": [
    {
     "data": {
      "text/plain": [
       "(1474, 20)"
      ]
     },
     "execution_count": 124,
     "metadata": {},
     "output_type": "execute_result"
    }
   ],
   "source": [
    "df.shape"
   ]
  },
  {
   "cell_type": "code",
   "execution_count": 125,
   "id": "85a5165c",
   "metadata": {},
   "outputs": [
    {
     "data": {
      "text/plain": [
       "0\n",
       "Age                           0\n",
       "Gender                        0\n",
       "MonthlyIncome                 0\n",
       "Department                    0\n",
       "NumCompaniesWorked            0\n",
       "Over18                        0\n",
       "workingfromhome               0\n",
       "BusinessTravel                0\n",
       "DistanceFromHome              0\n",
       "StandardHours                 0\n",
       "JobSatisfaction               0\n",
       "complaintfiled                0\n",
       "complaintresolved          1180\n",
       "complaintyears             1211\n",
       "PercentSalaryHike             0\n",
       "PerformanceRating             0\n",
       "TotalWorkingYears             0\n",
       "YearsAtCompany                0\n",
       "YearsSinceLastPromotion       0\n",
       "Left                          0\n",
       "dtype: int64"
      ]
     },
     "execution_count": 125,
     "metadata": {},
     "output_type": "execute_result"
    }
   ],
   "source": [
    "df.isna().sum()"
   ]
  },
  {
   "cell_type": "code",
   "execution_count": 126,
   "id": "1b314fab",
   "metadata": {},
   "outputs": [
    {
     "data": {
      "text/plain": [
       "0\n",
       "Age                        object\n",
       "Gender                     object\n",
       "MonthlyIncome              object\n",
       "Department                 object\n",
       "NumCompaniesWorked         object\n",
       "Over18                     object\n",
       "workingfromhome            object\n",
       "BusinessTravel             object\n",
       "DistanceFromHome           object\n",
       "StandardHours              object\n",
       "JobSatisfaction            object\n",
       "complaintfiled             object\n",
       "complaintresolved          object\n",
       "complaintyears             object\n",
       "PercentSalaryHike          object\n",
       "PerformanceRating          object\n",
       "TotalWorkingYears          object\n",
       "YearsAtCompany             object\n",
       "YearsSinceLastPromotion    object\n",
       "Left                       object\n",
       "dtype: object"
      ]
     },
     "execution_count": 126,
     "metadata": {},
     "output_type": "execute_result"
    }
   ],
   "source": [
    "df.dtypes"
   ]
  },
  {
   "cell_type": "code",
   "execution_count": 127,
   "id": "90150557",
   "metadata": {},
   "outputs": [],
   "source": [
    "df[['Age','NumCompaniesWorked','DistanceFromHome','StandardHours','JobSatisfaction','PercentSalaryHike',\n",
    "       'PerformanceRating', 'TotalWorkingYears', 'YearsAtCompany',\n",
    "       'YearsSinceLastPromotion']]=df[['Age','NumCompaniesWorked','DistanceFromHome','StandardHours','JobSatisfaction','PercentSalaryHike',\n",
    "       'PerformanceRating', 'TotalWorkingYears', 'YearsAtCompany',\n",
    "       'YearsSinceLastPromotion']].astype(int)\n"
   ]
  },
  {
   "cell_type": "code",
   "execution_count": 128,
   "id": "92e424e3",
   "metadata": {},
   "outputs": [
    {
     "data": {
      "text/plain": [
       "0\n",
       "Age                         int64\n",
       "Gender                     object\n",
       "MonthlyIncome              object\n",
       "Department                 object\n",
       "NumCompaniesWorked          int64\n",
       "Over18                     object\n",
       "workingfromhome            object\n",
       "BusinessTravel             object\n",
       "DistanceFromHome            int64\n",
       "StandardHours               int64\n",
       "JobSatisfaction             int64\n",
       "complaintfiled             object\n",
       "complaintresolved          object\n",
       "complaintyears             object\n",
       "PercentSalaryHike           int64\n",
       "PerformanceRating           int64\n",
       "TotalWorkingYears           int64\n",
       "YearsAtCompany              int64\n",
       "YearsSinceLastPromotion     int64\n",
       "Left                       object\n",
       "dtype: object"
      ]
     },
     "execution_count": 128,
     "metadata": {},
     "output_type": "execute_result"
    }
   ],
   "source": [
    "df.dtypes"
   ]
  },
  {
   "cell_type": "code",
   "execution_count": 129,
   "id": "72b5f402",
   "metadata": {},
   "outputs": [
    {
     "data": {
      "text/html": [
       "<div>\n",
       "<style scoped>\n",
       "    .dataframe tbody tr th:only-of-type {\n",
       "        vertical-align: middle;\n",
       "    }\n",
       "\n",
       "    .dataframe tbody tr th {\n",
       "        vertical-align: top;\n",
       "    }\n",
       "\n",
       "    .dataframe thead th {\n",
       "        text-align: right;\n",
       "    }\n",
       "</style>\n",
       "<table border=\"1\" class=\"dataframe\">\n",
       "  <thead>\n",
       "    <tr style=\"text-align: right;\">\n",
       "      <th></th>\n",
       "      <th>Age</th>\n",
       "      <th>Over18</th>\n",
       "    </tr>\n",
       "  </thead>\n",
       "  <tbody>\n",
       "    <tr>\n",
       "      <th>0</th>\n",
       "      <td>18</td>\n",
       "      <td>Y</td>\n",
       "    </tr>\n",
       "    <tr>\n",
       "      <th>1</th>\n",
       "      <td>18</td>\n",
       "      <td>Y</td>\n",
       "    </tr>\n",
       "    <tr>\n",
       "      <th>2</th>\n",
       "      <td>18</td>\n",
       "      <td>Y</td>\n",
       "    </tr>\n",
       "    <tr>\n",
       "      <th>3</th>\n",
       "      <td>18</td>\n",
       "      <td>Y</td>\n",
       "    </tr>\n",
       "    <tr>\n",
       "      <th>4</th>\n",
       "      <td>18</td>\n",
       "      <td>Y</td>\n",
       "    </tr>\n",
       "    <tr>\n",
       "      <th>5</th>\n",
       "      <td>18</td>\n",
       "      <td>Y</td>\n",
       "    </tr>\n",
       "    <tr>\n",
       "      <th>6</th>\n",
       "      <td>18</td>\n",
       "      <td>Y</td>\n",
       "    </tr>\n",
       "    <tr>\n",
       "      <th>7</th>\n",
       "      <td>18</td>\n",
       "      <td>Y</td>\n",
       "    </tr>\n",
       "  </tbody>\n",
       "</table>\n",
       "</div>"
      ],
      "text/plain": [
       "0  Age Over18\n",
       "0   18      Y\n",
       "1   18      Y\n",
       "2   18      Y\n",
       "3   18      Y\n",
       "4   18      Y\n",
       "5   18      Y\n",
       "6   18      Y\n",
       "7   18      Y"
      ]
     },
     "execution_count": 129,
     "metadata": {},
     "output_type": "execute_result"
    }
   ],
   "source": [
    "df.query('Age <= 18')[['Age','Over18']].reset_index(drop=True)"
   ]
  },
  {
   "cell_type": "code",
   "execution_count": 130,
   "id": "74bf5cc0",
   "metadata": {},
   "outputs": [],
   "source": [
    "df=df.drop(['Over18'], axis=1) #Unnecessary column"
   ]
  },
  {
   "cell_type": "code",
   "execution_count": 131,
   "id": "d30a7249",
   "metadata": {},
   "outputs": [],
   "source": [
    "df_left=df.query('Left==\"Yes\"').reset_index(drop=True).copy()"
   ]
  },
  {
   "cell_type": "code",
   "execution_count": 134,
   "id": "f74127d4",
   "metadata": {},
   "outputs": [
    {
     "data": {
      "text/html": [
       "<div>\n",
       "<style scoped>\n",
       "    .dataframe tbody tr th:only-of-type {\n",
       "        vertical-align: middle;\n",
       "    }\n",
       "\n",
       "    .dataframe tbody tr th {\n",
       "        vertical-align: top;\n",
       "    }\n",
       "\n",
       "    .dataframe thead th {\n",
       "        text-align: right;\n",
       "    }\n",
       "</style>\n",
       "<table border=\"1\" class=\"dataframe\">\n",
       "  <thead>\n",
       "    <tr style=\"text-align: right;\">\n",
       "      <th></th>\n",
       "      <th>Age</th>\n",
       "      <th>Gender</th>\n",
       "      <th>MonthlyIncome</th>\n",
       "      <th>Department</th>\n",
       "      <th>NumCompaniesWorked</th>\n",
       "      <th>workingfromhome</th>\n",
       "      <th>BusinessTravel</th>\n",
       "      <th>DistanceFromHome</th>\n",
       "      <th>StandardHours</th>\n",
       "      <th>JobSatisfaction</th>\n",
       "      <th>complaintfiled</th>\n",
       "      <th>complaintresolved</th>\n",
       "      <th>complaintyears</th>\n",
       "      <th>PercentSalaryHike</th>\n",
       "      <th>PerformanceRating</th>\n",
       "      <th>TotalWorkingYears</th>\n",
       "      <th>YearsAtCompany</th>\n",
       "      <th>YearsSinceLastPromotion</th>\n",
       "      <th>Left</th>\n",
       "    </tr>\n",
       "  </thead>\n",
       "  <tbody>\n",
       "    <tr>\n",
       "      <th>0</th>\n",
       "      <td>22</td>\n",
       "      <td>Male</td>\n",
       "      <td>low</td>\n",
       "      <td>Research &amp; Development</td>\n",
       "      <td>0</td>\n",
       "      <td>1</td>\n",
       "      <td>Travel_Frequently</td>\n",
       "      <td>3</td>\n",
       "      <td>40</td>\n",
       "      <td>4</td>\n",
       "      <td>0</td>\n",
       "      <td>NaN</td>\n",
       "      <td>NaN</td>\n",
       "      <td>11</td>\n",
       "      <td>1</td>\n",
       "      <td>1</td>\n",
       "      <td>0</td>\n",
       "      <td>0</td>\n",
       "      <td>Yes</td>\n",
       "    </tr>\n",
       "    <tr>\n",
       "      <th>1</th>\n",
       "      <td>29</td>\n",
       "      <td>Female</td>\n",
       "      <td>low</td>\n",
       "      <td>Research &amp; Development</td>\n",
       "      <td>6</td>\n",
       "      <td>1</td>\n",
       "      <td>Travel_Rarely</td>\n",
       "      <td>10</td>\n",
       "      <td>40</td>\n",
       "      <td>1</td>\n",
       "      <td>0</td>\n",
       "      <td>NaN</td>\n",
       "      <td>NaN</td>\n",
       "      <td>20</td>\n",
       "      <td>5</td>\n",
       "      <td>3</td>\n",
       "      <td>0</td>\n",
       "      <td>0</td>\n",
       "      <td>Yes</td>\n",
       "    </tr>\n",
       "    <tr>\n",
       "      <th>2</th>\n",
       "      <td>51</td>\n",
       "      <td>Male</td>\n",
       "      <td>high</td>\n",
       "      <td>Research &amp; Development</td>\n",
       "      <td>2</td>\n",
       "      <td>0</td>\n",
       "      <td>Travel_Frequently</td>\n",
       "      <td>8</td>\n",
       "      <td>40</td>\n",
       "      <td>4</td>\n",
       "      <td>0</td>\n",
       "      <td>NaN</td>\n",
       "      <td>NaN</td>\n",
       "      <td>15</td>\n",
       "      <td>3</td>\n",
       "      <td>18</td>\n",
       "      <td>4</td>\n",
       "      <td>0</td>\n",
       "      <td>Yes</td>\n",
       "    </tr>\n",
       "    <tr>\n",
       "      <th>3</th>\n",
       "      <td>40</td>\n",
       "      <td>Male</td>\n",
       "      <td>medium</td>\n",
       "      <td>Sales</td>\n",
       "      <td>2</td>\n",
       "      <td>1</td>\n",
       "      <td>Travel_Rarely</td>\n",
       "      <td>22</td>\n",
       "      <td>40</td>\n",
       "      <td>3</td>\n",
       "      <td>1</td>\n",
       "      <td>Y</td>\n",
       "      <td>2</td>\n",
       "      <td>12</td>\n",
       "      <td>1</td>\n",
       "      <td>8</td>\n",
       "      <td>6</td>\n",
       "      <td>1</td>\n",
       "      <td>Yes</td>\n",
       "    </tr>\n",
       "    <tr>\n",
       "      <th>4</th>\n",
       "      <td>31</td>\n",
       "      <td>Male</td>\n",
       "      <td>medium</td>\n",
       "      <td>Sales</td>\n",
       "      <td>4</td>\n",
       "      <td>0</td>\n",
       "      <td>Travel_Rarely</td>\n",
       "      <td>6</td>\n",
       "      <td>40</td>\n",
       "      <td>3</td>\n",
       "      <td>0</td>\n",
       "      <td>NaN</td>\n",
       "      <td>NaN</td>\n",
       "      <td>18</td>\n",
       "      <td>4</td>\n",
       "      <td>12</td>\n",
       "      <td>7</td>\n",
       "      <td>7</td>\n",
       "      <td>Yes</td>\n",
       "    </tr>\n",
       "    <tr>\n",
       "      <th>...</th>\n",
       "      <td>...</td>\n",
       "      <td>...</td>\n",
       "      <td>...</td>\n",
       "      <td>...</td>\n",
       "      <td>...</td>\n",
       "      <td>...</td>\n",
       "      <td>...</td>\n",
       "      <td>...</td>\n",
       "      <td>...</td>\n",
       "      <td>...</td>\n",
       "      <td>...</td>\n",
       "      <td>...</td>\n",
       "      <td>...</td>\n",
       "      <td>...</td>\n",
       "      <td>...</td>\n",
       "      <td>...</td>\n",
       "      <td>...</td>\n",
       "      <td>...</td>\n",
       "      <td>...</td>\n",
       "    </tr>\n",
       "    <tr>\n",
       "      <th>236</th>\n",
       "      <td>23</td>\n",
       "      <td>Male</td>\n",
       "      <td>low</td>\n",
       "      <td>Sales</td>\n",
       "      <td>1</td>\n",
       "      <td>0</td>\n",
       "      <td>Travel_Rarely</td>\n",
       "      <td>7</td>\n",
       "      <td>40</td>\n",
       "      <td>4</td>\n",
       "      <td>0</td>\n",
       "      <td>NaN</td>\n",
       "      <td>NaN</td>\n",
       "      <td>21</td>\n",
       "      <td>5</td>\n",
       "      <td>3</td>\n",
       "      <td>3</td>\n",
       "      <td>0</td>\n",
       "      <td>Yes</td>\n",
       "    </tr>\n",
       "    <tr>\n",
       "      <th>237</th>\n",
       "      <td>34</td>\n",
       "      <td>Female</td>\n",
       "      <td>high</td>\n",
       "      <td>Human Resources</td>\n",
       "      <td>9</td>\n",
       "      <td>0</td>\n",
       "      <td>Travel_Frequently</td>\n",
       "      <td>23</td>\n",
       "      <td>40</td>\n",
       "      <td>1</td>\n",
       "      <td>0</td>\n",
       "      <td>NaN</td>\n",
       "      <td>NaN</td>\n",
       "      <td>15</td>\n",
       "      <td>3</td>\n",
       "      <td>11</td>\n",
       "      <td>3</td>\n",
       "      <td>0</td>\n",
       "      <td>Yes</td>\n",
       "    </tr>\n",
       "    <tr>\n",
       "      <th>238</th>\n",
       "      <td>35</td>\n",
       "      <td>Female</td>\n",
       "      <td>low</td>\n",
       "      <td>Research &amp; Development</td>\n",
       "      <td>1</td>\n",
       "      <td>0</td>\n",
       "      <td>Travel_Frequently</td>\n",
       "      <td>25</td>\n",
       "      <td>40</td>\n",
       "      <td>2</td>\n",
       "      <td>0</td>\n",
       "      <td>NaN</td>\n",
       "      <td>NaN</td>\n",
       "      <td>19</td>\n",
       "      <td>4</td>\n",
       "      <td>10</td>\n",
       "      <td>10</td>\n",
       "      <td>7</td>\n",
       "      <td>Yes</td>\n",
       "    </tr>\n",
       "    <tr>\n",
       "      <th>239</th>\n",
       "      <td>46</td>\n",
       "      <td>Female</td>\n",
       "      <td>medium</td>\n",
       "      <td>Sales</td>\n",
       "      <td>5</td>\n",
       "      <td>0</td>\n",
       "      <td>Travel_Rarely</td>\n",
       "      <td>10</td>\n",
       "      <td>40</td>\n",
       "      <td>2</td>\n",
       "      <td>0</td>\n",
       "      <td>NaN</td>\n",
       "      <td>NaN</td>\n",
       "      <td>21</td>\n",
       "      <td>5</td>\n",
       "      <td>14</td>\n",
       "      <td>8</td>\n",
       "      <td>0</td>\n",
       "      <td>Yes</td>\n",
       "    </tr>\n",
       "    <tr>\n",
       "      <th>240</th>\n",
       "      <td>26</td>\n",
       "      <td>Male</td>\n",
       "      <td>low</td>\n",
       "      <td>Research &amp; Development</td>\n",
       "      <td>1</td>\n",
       "      <td>1</td>\n",
       "      <td>Travel_Rarely</td>\n",
       "      <td>25</td>\n",
       "      <td>40</td>\n",
       "      <td>3</td>\n",
       "      <td>0</td>\n",
       "      <td>NaN</td>\n",
       "      <td>NaN</td>\n",
       "      <td>12</td>\n",
       "      <td>1</td>\n",
       "      <td>1</td>\n",
       "      <td>1</td>\n",
       "      <td>0</td>\n",
       "      <td>Yes</td>\n",
       "    </tr>\n",
       "  </tbody>\n",
       "</table>\n",
       "<p>241 rows × 19 columns</p>\n",
       "</div>"
      ],
      "text/plain": [
       "0    Age  Gender MonthlyIncome              Department  NumCompaniesWorked  \\\n",
       "0     22    Male           low  Research & Development                   0   \n",
       "1     29  Female           low  Research & Development                   6   \n",
       "2     51    Male          high  Research & Development                   2   \n",
       "3     40    Male        medium                   Sales                   2   \n",
       "4     31    Male        medium                   Sales                   4   \n",
       "..   ...     ...           ...                     ...                 ...   \n",
       "236   23    Male           low                   Sales                   1   \n",
       "237   34  Female          high         Human Resources                   9   \n",
       "238   35  Female           low  Research & Development                   1   \n",
       "239   46  Female        medium                   Sales                   5   \n",
       "240   26    Male           low  Research & Development                   1   \n",
       "\n",
       "0   workingfromhome     BusinessTravel  DistanceFromHome  StandardHours  \\\n",
       "0                 1  Travel_Frequently                 3             40   \n",
       "1                 1      Travel_Rarely                10             40   \n",
       "2                 0  Travel_Frequently                 8             40   \n",
       "3                 1      Travel_Rarely                22             40   \n",
       "4                 0      Travel_Rarely                 6             40   \n",
       "..              ...                ...               ...            ...   \n",
       "236               0      Travel_Rarely                 7             40   \n",
       "237               0  Travel_Frequently                23             40   \n",
       "238               0  Travel_Frequently                25             40   \n",
       "239               0      Travel_Rarely                10             40   \n",
       "240               1      Travel_Rarely                25             40   \n",
       "\n",
       "0    JobSatisfaction complaintfiled complaintresolved complaintyears  \\\n",
       "0                  4              0               NaN            NaN   \n",
       "1                  1              0               NaN            NaN   \n",
       "2                  4              0               NaN            NaN   \n",
       "3                  3              1                 Y              2   \n",
       "4                  3              0               NaN            NaN   \n",
       "..               ...            ...               ...            ...   \n",
       "236                4              0               NaN            NaN   \n",
       "237                1              0               NaN            NaN   \n",
       "238                2              0               NaN            NaN   \n",
       "239                2              0               NaN            NaN   \n",
       "240                3              0               NaN            NaN   \n",
       "\n",
       "0    PercentSalaryHike  PerformanceRating  TotalWorkingYears  YearsAtCompany  \\\n",
       "0                   11                  1                  1               0   \n",
       "1                   20                  5                  3               0   \n",
       "2                   15                  3                 18               4   \n",
       "3                   12                  1                  8               6   \n",
       "4                   18                  4                 12               7   \n",
       "..                 ...                ...                ...             ...   \n",
       "236                 21                  5                  3               3   \n",
       "237                 15                  3                 11               3   \n",
       "238                 19                  4                 10              10   \n",
       "239                 21                  5                 14               8   \n",
       "240                 12                  1                  1               1   \n",
       "\n",
       "0    YearsSinceLastPromotion Left  \n",
       "0                          0  Yes  \n",
       "1                          0  Yes  \n",
       "2                          0  Yes  \n",
       "3                          1  Yes  \n",
       "4                          7  Yes  \n",
       "..                       ...  ...  \n",
       "236                        0  Yes  \n",
       "237                        0  Yes  \n",
       "238                        7  Yes  \n",
       "239                        0  Yes  \n",
       "240                        0  Yes  \n",
       "\n",
       "[241 rows x 19 columns]"
      ]
     },
     "execution_count": 134,
     "metadata": {},
     "output_type": "execute_result"
    }
   ],
   "source": [
    "df_left"
   ]
  },
  {
   "cell_type": "code",
   "execution_count": 135,
   "id": "110b9d24",
   "metadata": {},
   "outputs": [
    {
     "data": {
      "text/plain": [
       "(241, 19)"
      ]
     },
     "execution_count": 135,
     "metadata": {},
     "output_type": "execute_result"
    }
   ],
   "source": [
    "df_left.shape"
   ]
  },
  {
   "cell_type": "code",
   "execution_count": 136,
   "id": "e046fecb",
   "metadata": {},
   "outputs": [
    {
     "data": {
      "text/plain": [
       "<Axes: title={'center': 'Department specific leaving employees'}, ylabel='Department'>"
      ]
     },
     "execution_count": 136,
     "metadata": {},
     "output_type": "execute_result"
    },
    {
     "data": {
      "image/png": "[encoded data removed]",
      "text/plain": [
       "<Figure size 640x480 with 1 Axes>"
      ]
     },
     "metadata": {},
     "output_type": "display_data"
    }
   ],
   "source": [
    "df_left.Department.value_counts().plot(kind='pie',autopct='%1.1f%%',title='Department specific leaving employees')"
   ]
  },
  {
   "cell_type": "markdown",
   "id": "de014096",
   "metadata": {},
   "source": [
    "Clearly R&D department people are mostly leaving the business"
   ]
  },
  {
   "cell_type": "code",
   "execution_count": 137,
   "id": "691d1d20",
   "metadata": {},
   "outputs": [
    {
     "name": "stdout",
     "output_type": "stream",
     "text": [
      "Max: 35, Min: 26\n"
     ]
    }
   ],
   "source": [
    "l=list(df_left.Age.value_counts().head(7).index)\n",
    "print('Max: %s, Min: %s'%(max(l),min(l)))\n"
   ]
  },
  {
   "cell_type": "code",
   "execution_count": 138,
   "id": "7e1f9c2d",
   "metadata": {},
   "outputs": [
    {
     "data": {
      "text/plain": [
       "41    6\n",
       "36    6\n",
       "44    6\n",
       "39    6\n",
       "37    6\n",
       "50    5\n",
       "40    5\n",
       "58    5\n",
       "46    4\n",
       "56    3\n",
       "Name: Age, dtype: int64"
      ]
     },
     "execution_count": 138,
     "metadata": {},
     "output_type": "execute_result"
    }
   ],
   "source": [
    "df_left.query('Age > 35')['Age'].value_counts().head(10) #checking frequency of older age group which looks pretty low"
   ]
  },
  {
   "cell_type": "code",
   "execution_count": 139,
   "id": "1212a877",
   "metadata": {},
   "outputs": [
    {
     "data": {
      "image/png": "[encoded data removed]",
      "text/plain": [
       "<Figure size 640x480 with 1 Axes>"
      ]
     },
     "metadata": {},
     "output_type": "display_data"
    }
   ],
   "source": [
    "ax=df_left.query('Age < 36 and Age > 27')['Age'].value_counts().plot(kind='bar',title='Leaving frequency segregated by age')\n",
    "ax.set_xlabel('Age')\n",
    "ax.set_ylabel('Frequency')\n",
    "plt.show()\n"
   ]
  },
  {
   "cell_type": "code",
   "execution_count": 140,
   "id": "121c4654",
   "metadata": {},
   "outputs": [
    {
     "data": {
      "text/plain": [
       "count    241.000000\n",
       "mean      15.070539\n",
       "std        3.747110\n",
       "min       11.000000\n",
       "25%       12.000000\n",
       "50%       14.000000\n",
       "75%       17.000000\n",
       "max       25.000000\n",
       "Name: PercentSalaryHike, dtype: float64"
      ]
     },
     "execution_count": 140,
     "metadata": {},
     "output_type": "execute_result"
    }
   ],
   "source": [
    "df_left.PercentSalaryHike.describe()"
   ]
  },
  {
   "cell_type": "code",
   "execution_count": 141,
   "id": "0c2c1381",
   "metadata": {},
   "outputs": [
    {
     "data": {
      "text/plain": [
       "Text(0, 0.5, 'Employees count')"
      ]
     },
     "execution_count": 141,
     "metadata": {},
     "output_type": "execute_result"
    },
    {
     "data": {
      "image/png": "[encoded data removed]",
      "text/plain": [
       "<Figure size 640x480 with 1 Axes>"
      ]
     },
     "metadata": {},
     "output_type": "display_data"
    }
   ],
   "source": [
    "ax = df_left.query('PercentSalaryHike < 18 and PerformanceRating < 3')['Age']\\\n",
    "    .value_counts().sort_index()\\\n",
    "    .plot(kind='line',title=\"Age group of employees with low rating with hike consideration\")\n",
    "ax.set_xlabel('Age')\n",
    "ax.set_ylabel('Employees count')"
   ]
  },
  {
   "cell_type": "markdown",
   "id": "dd49e504",
   "metadata": {},
   "source": [
    "Observation says 75% employees who left had atleast a hike of 17% and those individuals who were rated less than 3 in this bracket mostly were falling within age group of 25-35"
   ]
  },
  {
   "cell_type": "code",
   "execution_count": 142,
   "id": "82201f27",
   "metadata": {},
   "outputs": [
    {
     "data": {
      "text/plain": [
       "low       128\n",
       "medium     74\n",
       "high       39\n",
       "Name: MonthlyIncome, dtype: int64"
      ]
     },
     "execution_count": 142,
     "metadata": {},
     "output_type": "execute_result"
    }
   ],
   "source": [
    "df_left.MonthlyIncome.value_counts()"
   ]
  },
  {
   "cell_type": "code",
   "execution_count": 143,
   "id": "f2ccdba0",
   "metadata": {},
   "outputs": [
    {
     "data": {
      "text/plain": [
       "<Axes: xlabel='BusinessTravel,MonthlyIncome'>"
      ]
     },
     "execution_count": 143,
     "metadata": {},
     "output_type": "execute_result"
    },
    {
     "data": {
      "image/png": "[encoded data removed]",
      "text/plain": [
       "<Figure size 640x480 with 1 Axes>"
      ]
     },
     "metadata": {},
     "output_type": "display_data"
    }
   ],
   "source": [
    "df_left.query('MonthlyIncome != \"high\"')\\\n",
    "    .groupby('BusinessTravel')['MonthlyIncome']\\\n",
    "    .value_counts().plot(kind='bar')"
   ]
  },
  {
   "cell_type": "markdown",
   "id": "85f64c7c",
   "metadata": {},
   "source": [
    "This shows employees with low salary and travelling often to office were the ones who left. Also medium salary ones "
   ]
  },
  {
   "cell_type": "code",
   "execution_count": 144,
   "id": "1742fe33",
   "metadata": {},
   "outputs": [
    {
     "data": {
      "text/plain": [
       "Text(0, 0.5, 'Employees Left')"
      ]
     },
     "execution_count": 144,
     "metadata": {},
     "output_type": "execute_result"
    },
    {
     "data": {
      "image/png": "[encoded data removed]",
      "text/plain": [
       "<Figure size 640x480 with 1 Axes>"
      ]
     },
     "metadata": {},
     "output_type": "display_data"
    }
   ],
   "source": [
    "colors = [\"red\" if i in li else \"blue\" for i in indexes]\n",
    "ax=df_left.query('JobSatisfaction < 3')['TotalWorkingYears'].value_counts().plot(kind='bar',color=colors, title='Employees experience who left with low staisfaction')\n",
    "ax.set_xlabel('Work Experience')\n",
    "ax.set_ylabel('Employees Left')\n"
   ]
  },
  {
   "cell_type": "markdown",
   "id": "949d3d94",
   "metadata": {},
   "source": [
    "Above signifies including the freshers , employees holding 4 to 10 experience who are dissatisfied are also leaving."
   ]
  },
  {
   "cell_type": "code",
   "execution_count": null,
   "id": "80ec708c",
   "metadata": {},
   "outputs": [],
   "source": []
  },
  {
   "cell_type": "code",
   "execution_count": 145,
   "id": "f3cbc6a3",
   "metadata": {},
   "outputs": [
    {
     "data": {
      "text/plain": [
       "<Axes: xlabel='MonthlyIncome,JobSatisfaction'>"
      ]
     },
     "execution_count": 145,
     "metadata": {},
     "output_type": "execute_result"
    },
    {
     "data": {
      "image/png": "[encoded data removed]",
      "text/plain": [
       "<Figure size 640x480 with 1 Axes>"
      ]
     },
     "metadata": {},
     "output_type": "display_data"
    }
   ],
   "source": [
    "df_left.groupby('MonthlyIncome')['JobSatisfaction']\\\n",
    "    .value_counts().plot(kind='bar')"
   ]
  },
  {
   "cell_type": "markdown",
   "id": "0fa232a3",
   "metadata": {},
   "source": [
    "Surprisingly even if there is job satisfaction , with a low salary : employees tend to leave which means there are other contributing factor like years at company and work from home allowance."
   ]
  },
  {
   "cell_type": "code",
   "execution_count": null,
   "id": "683002b6",
   "metadata": {},
   "outputs": [],
   "source": []
  },
  {
   "cell_type": "code",
   "execution_count": null,
   "id": "5a3408c9",
   "metadata": {},
   "outputs": [],
   "source": []
  },
  {
   "cell_type": "code",
   "execution_count": null,
   "id": "54c8aeaa",
   "metadata": {},
   "outputs": [],
   "source": []
  },
  {
   "cell_type": "code",
   "execution_count": 146,
   "id": "103020dd",
   "metadata": {},
   "outputs": [
    {
     "data": {
      "text/html": [
       "<div>\n",
       "<style scoped>\n",
       "    .dataframe tbody tr th:only-of-type {\n",
       "        vertical-align: middle;\n",
       "    }\n",
       "\n",
       "    .dataframe tbody tr th {\n",
       "        vertical-align: top;\n",
       "    }\n",
       "\n",
       "    .dataframe thead th {\n",
       "        text-align: right;\n",
       "    }\n",
       "</style>\n",
       "<table border=\"1\" class=\"dataframe\">\n",
       "  <thead>\n",
       "    <tr style=\"text-align: right;\">\n",
       "      <th></th>\n",
       "      <th>Age</th>\n",
       "      <th>Gender</th>\n",
       "      <th>MonthlyIncome</th>\n",
       "      <th>Department</th>\n",
       "      <th>NumCompaniesWorked</th>\n",
       "      <th>workingfromhome</th>\n",
       "      <th>BusinessTravel</th>\n",
       "      <th>DistanceFromHome</th>\n",
       "      <th>StandardHours</th>\n",
       "      <th>JobSatisfaction</th>\n",
       "      <th>complaintfiled</th>\n",
       "      <th>complaintresolved</th>\n",
       "      <th>complaintyears</th>\n",
       "      <th>PercentSalaryHike</th>\n",
       "      <th>PerformanceRating</th>\n",
       "      <th>TotalWorkingYears</th>\n",
       "      <th>YearsAtCompany</th>\n",
       "      <th>YearsSinceLastPromotion</th>\n",
       "      <th>Left</th>\n",
       "    </tr>\n",
       "  </thead>\n",
       "  <tbody>\n",
       "    <tr>\n",
       "      <th>0</th>\n",
       "      <td>31</td>\n",
       "      <td>Female</td>\n",
       "      <td>low</td>\n",
       "      <td>Research &amp; Development</td>\n",
       "      <td>1</td>\n",
       "      <td>0</td>\n",
       "      <td>Travel_Rarely</td>\n",
       "      <td>2</td>\n",
       "      <td>40</td>\n",
       "      <td>4</td>\n",
       "      <td>1</td>\n",
       "      <td>Y</td>\n",
       "      <td>0</td>\n",
       "      <td>11</td>\n",
       "      <td>1</td>\n",
       "      <td>1</td>\n",
       "      <td>1</td>\n",
       "      <td>0</td>\n",
       "      <td>No</td>\n",
       "    </tr>\n",
       "    <tr>\n",
       "      <th>1</th>\n",
       "      <td>32</td>\n",
       "      <td>Male</td>\n",
       "      <td>low</td>\n",
       "      <td>Research &amp; Development</td>\n",
       "      <td>0</td>\n",
       "      <td>0</td>\n",
       "      <td>Travel_Frequently</td>\n",
       "      <td>2</td>\n",
       "      <td>40</td>\n",
       "      <td>4</td>\n",
       "      <td>0</td>\n",
       "      <td>NaN</td>\n",
       "      <td>NaN</td>\n",
       "      <td>13</td>\n",
       "      <td>2</td>\n",
       "      <td>8</td>\n",
       "      <td>7</td>\n",
       "      <td>3</td>\n",
       "      <td>No</td>\n",
       "    </tr>\n",
       "    <tr>\n",
       "      <th>2</th>\n",
       "      <td>34</td>\n",
       "      <td>Female</td>\n",
       "      <td>medium</td>\n",
       "      <td>Research &amp; Development</td>\n",
       "      <td>3</td>\n",
       "      <td>1</td>\n",
       "      <td>Travel_Rarely</td>\n",
       "      <td>8</td>\n",
       "      <td>40</td>\n",
       "      <td>1</td>\n",
       "      <td>0</td>\n",
       "      <td>NaN</td>\n",
       "      <td>NaN</td>\n",
       "      <td>14</td>\n",
       "      <td>3</td>\n",
       "      <td>7</td>\n",
       "      <td>0</td>\n",
       "      <td>0</td>\n",
       "      <td>No</td>\n",
       "    </tr>\n",
       "    <tr>\n",
       "      <th>3</th>\n",
       "      <td>49</td>\n",
       "      <td>Male</td>\n",
       "      <td>high</td>\n",
       "      <td>Research &amp; Development</td>\n",
       "      <td>4</td>\n",
       "      <td>0</td>\n",
       "      <td>Travel_Rarely</td>\n",
       "      <td>1</td>\n",
       "      <td>40</td>\n",
       "      <td>3</td>\n",
       "      <td>0</td>\n",
       "      <td>NaN</td>\n",
       "      <td>NaN</td>\n",
       "      <td>14</td>\n",
       "      <td>3</td>\n",
       "      <td>23</td>\n",
       "      <td>8</td>\n",
       "      <td>0</td>\n",
       "      <td>No</td>\n",
       "    </tr>\n",
       "    <tr>\n",
       "      <th>4</th>\n",
       "      <td>27</td>\n",
       "      <td>Male</td>\n",
       "      <td>medium</td>\n",
       "      <td>Research &amp; Development</td>\n",
       "      <td>1</td>\n",
       "      <td>0</td>\n",
       "      <td>Travel_Rarely</td>\n",
       "      <td>19</td>\n",
       "      <td>40</td>\n",
       "      <td>1</td>\n",
       "      <td>0</td>\n",
       "      <td>NaN</td>\n",
       "      <td>NaN</td>\n",
       "      <td>11</td>\n",
       "      <td>1</td>\n",
       "      <td>7</td>\n",
       "      <td>7</td>\n",
       "      <td>0</td>\n",
       "      <td>No</td>\n",
       "    </tr>\n",
       "  </tbody>\n",
       "</table>\n",
       "</div>"
      ],
      "text/plain": [
       "0  Age  Gender MonthlyIncome              Department  NumCompaniesWorked  \\\n",
       "0   31  Female           low  Research & Development                   1   \n",
       "1   32    Male           low  Research & Development                   0   \n",
       "2   34  Female        medium  Research & Development                   3   \n",
       "3   49    Male          high  Research & Development                   4   \n",
       "4   27    Male        medium  Research & Development                   1   \n",
       "\n",
       "0 workingfromhome     BusinessTravel  DistanceFromHome  StandardHours  \\\n",
       "0               0      Travel_Rarely                 2             40   \n",
       "1               0  Travel_Frequently                 2             40   \n",
       "2               1      Travel_Rarely                 8             40   \n",
       "3               0      Travel_Rarely                 1             40   \n",
       "4               0      Travel_Rarely                19             40   \n",
       "\n",
       "0  JobSatisfaction complaintfiled complaintresolved complaintyears  \\\n",
       "0                4              1                 Y              0   \n",
       "1                4              0               NaN            NaN   \n",
       "2                1              0               NaN            NaN   \n",
       "3                3              0               NaN            NaN   \n",
       "4                1              0               NaN            NaN   \n",
       "\n",
       "0  PercentSalaryHike  PerformanceRating  TotalWorkingYears  YearsAtCompany  \\\n",
       "0                 11                  1                  1               1   \n",
       "1                 13                  2                  8               7   \n",
       "2                 14                  3                  7               0   \n",
       "3                 14                  3                 23               8   \n",
       "4                 11                  1                  7               7   \n",
       "\n",
       "0  YearsSinceLastPromotion Left  \n",
       "0                        0   No  \n",
       "1                        3   No  \n",
       "2                        0   No  \n",
       "3                        0   No  \n",
       "4                        0   No  "
      ]
     },
     "execution_count": 146,
     "metadata": {},
     "output_type": "execute_result"
    }
   ],
   "source": [
    "df.head()"
   ]
  },
  {
   "cell_type": "code",
   "execution_count": 189,
   "id": "86004399",
   "metadata": {},
   "outputs": [],
   "source": [
    "df_goodEmp = df.query('PerformanceRating > 2').reset_index(drop=True).copy() #dataframe with high performance ratings"
   ]
  },
  {
   "cell_type": "code",
   "execution_count": 190,
   "id": "62a8ea38",
   "metadata": {},
   "outputs": [
    {
     "data": {
      "text/plain": [
       "<Axes: ylabel='BusinessTravel'>"
      ]
     },
     "execution_count": 190,
     "metadata": {},
     "output_type": "execute_result"
    },
    {
     "data": {
      "image/png": "[encoded data removed]",
      "text/plain": [
       "<Figure size 640x480 with 1 Axes>"
      ]
     },
     "metadata": {},
     "output_type": "display_data"
    }
   ],
   "source": [
    "df_goodEmp.query('YearsSinceLastPromotion<=4')\\\n",
    "    .groupby('Left')['BusinessTravel']\\\n",
    "    .value_counts()\\\n",
    "    .plot(kind='pie',autopct='%1.1f%%')"
   ]
  },
  {
   "cell_type": "markdown",
   "id": "36fee643",
   "metadata": {},
   "source": [
    "The above pie clearly depicts that even if it has been a while without promotion(4 years) , if the employee rarely travels to work , then they are less likely to leave ! This means good performing employees prefer working from home over travelling or promotion to a good extent.\n"
   ]
  },
  {
   "cell_type": "code",
   "execution_count": null,
   "id": "eeaca8ef",
   "metadata": {},
   "outputs": [],
   "source": []
  }
 ],
 "metadata": {
  "kernelspec": {
   "display_name": "Python 3 (ipykernel)",
   "language": "python",
   "name": "python3"
  },
  "language_info": {
   "codemirror_mode": {
    "name": "ipython",
    "version": 3
   },
   "file_extension": ".py",
   "mimetype": "text/x-python",
   "name": "python",
   "nbconvert_exporter": "python",
   "pygments_lexer": "ipython3",
   "version": "3.11.2"
  }
 },
 "nbformat": 4,
 "nbformat_minor": 5
}
